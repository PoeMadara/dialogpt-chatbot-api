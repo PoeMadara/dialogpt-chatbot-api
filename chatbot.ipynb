{
 "cells": [
  {
   "cell_type": "code",
   "execution_count": null,
   "metadata": {},
   "outputs": [],
   "source": []
  },
  {
   "cell_type": "markdown",
   "metadata": {},
   "source": [
    "# Chatbot with DialoGPT\n",
    "\n",
    "## Introduction\n",
    "This notebook implements a conversational agent using the DialoGPT model from Hugging Face. The model generates responses based on user input, maintaining the context of the conversation.\n",
    "\n",
    "## Setup\n",
    "To set up this project, install the required dependencies by using the provided `ironhack-llm.yml` file. This will ensure you have all necessary libraries installed.\n",
    "\n",
    "## Load the Model and Tokenizer\n",
    "We will load the pre-trained DialoGPT model and its corresponding tokenizer."
   ]
  },
  {
   "cell_type": "code",
   "execution_count": null,
   "metadata": {},
   "outputs": [],
   "source": [
    "import torch\n",
    "from transformers import AutoModelForCausalLM, AutoTokenizer\n",
    "import warnings\n",
    "\n",
    "# Suppress warnings\n",
    "warnings.filterwarnings(\"ignore\")\n",
    "\n",
    "# Load the model and tokenizer\n",
    "model_name = \"microsoft/DialoGPT-medium\"\n",
    "tokenizer = AutoTokenizer.from_pretrained(model_name)\n",
    "model = AutoModelForCausalLM.from_pretrained(model_name)\n",
    "\n",
    "# Initialize the conversation history\n",
    "chat_history_ids = None\n",
    "\n",
    "def chat_with_dialoGPT(user_input, history):\n",
    "    # Encode the input text and conversation history\n",
    "    new_user_input_ids = tokenizer.encode(user_input + tokenizer.eos_token, return_tensors='pt')\n",
    "    \n",
    "    # Concatenate the new input to the history\n",
    "    if history is None:\n",
    "        input_ids = new_user_input_ids\n",
    "    else:\n",
    "        input_ids = torch.cat([history, new_user_input_ids], dim=-1)\n",
    "\n",
    "    # Generate response\n",
    "    with torch.no_grad():\n",
    "        response_ids = model.generate(\n",
    "            input_ids,\n",
    "            max_length=150,\n",
    "            pad_token_id=tokenizer.eos_token_id,\n",
    "            num_return_sequences=1,\n",
    "            temperature=0.9,  # Increase randomness of responses\n",
    "            top_k=50,\n",
    "            top_p=0.95\n",
    "        )\n",
    "\n",
    "    # Decode the response\n",
    "    response = tokenizer.decode(response_ids[:, input_ids.shape[-1]:][0], skip_special_tokens=True)\n",
    "    \n",
    "    # Update the history\n",
    "    history = input_ids\n",
    "\n",
    "    return response, history\n",
    "\n",
    "# Conversation loop\n",
    "while True:\n",
    "    user_input = input(\"You: \")\n",
    "    if user_input.lower() in [\"exit\", \"quit\", \"Escape\", \"escape\"]:  # Exit the loop if the user types 'exit' or 'quit'\n",
    "        break\n",
    "    response, chat_history_ids = chat_with_dialoGPT(user_input, chat_history_ids)\n",
    "    print(\"DialoGPT:\", response)\n"
   ]
  }
 ],
 "metadata": {
  "kernelspec": {
   "display_name": "ironhack-llm",
   "language": "python",
   "name": "python3"
  },
  "language_info": {
   "codemirror_mode": {
    "name": "ipython",
    "version": 3
   },
   "file_extension": ".py",
   "mimetype": "text/x-python",
   "name": "python",
   "nbconvert_exporter": "python",
   "pygments_lexer": "ipython3",
   "version": "3.12.7"
  }
 },
 "nbformat": 4,
 "nbformat_minor": 2
}
